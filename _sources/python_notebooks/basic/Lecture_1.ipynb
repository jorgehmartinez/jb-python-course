{
 "cells": [
  {
   "cell_type": "markdown",
   "metadata": {},
   "source": [
    "# 1. Github Introduction"
   ]
  },
  {
   "cell_type": "markdown",
   "metadata": {},
   "source": [
    "## 1. Git "
   ]
  },
  {
   "cell_type": "markdown",
   "metadata": {},
   "source": [
    "### 1.1. Before Starting the class"
   ]
  },
  {
   "cell_type": "markdown",
   "metadata": {},
   "source": [
    "- Do you have a GitHub account? If not, [click here](https://github.com/) to sign up.\n",
    "- Have you submitted your GitHub username to the host\n",
    "alexander.quispe@pucp.edu.pe?\n",
    "- Have you installed GitHub Desktop? If not, [click here](https://desktop.github.com/) and download it.\n",
    "- Have you logged into GitHub Desktop at least once? If not, open GitHub Desktop and\n",
    "sign in with your GitHub account.\n",
    "- Have you been invited to the main repository? And have you accepted the invitation?"
   ]
  },
  {
   "cell_type": "markdown",
   "metadata": {},
   "source": [
    "### 1.2. Typical Issues"
   ]
  },
  {
   "cell_type": "markdown",
   "metadata": {},
   "source": [
    "- Several copies of the same document.\n",
    "- Problems in tracking changes.\n",
    "- Accidental mistakes.\n",
    "- Backups problems.\n",
    "- Messy documents.\n",
    "- Team working problems:\n",
    "- For Dropbox users, ”Copy Conflict” may sounds familiar.\n",
    "- Who did change the code?\n",
    "- No version history."
   ]
  },
  {
   "cell_type": "markdown",
   "metadata": {},
   "source": [
    "### 1.3. Bad Alternative Solutions"
   ]
  },
  {
   "cell_type": "markdown",
   "metadata": {},
   "source": [
    "- Name files using dates in filenames.\n",
    "- Name files with version number.\n",
    "- Email Threading.\n",
    "\n",
    "![](../../img/comic.gif)"
   ]
  },
  {
   "cell_type": "markdown",
   "metadata": {},
   "source": [
    "### 1.4. Git - The Best Solution"
   ]
  },
  {
   "cell_type": "markdown",
   "metadata": {},
   "source": [
    "Git is a version control system developed by Linus Torvalds, the famous creator of the\n",
    "Linux operating system kernel. We can track changes in our files in a highly structured way.\n",
    "Benefits:\n",
    "- A complete long-term change history of every file.\n",
    "- In this workflow, we can work in teams. Anyone can edit; anyone can access previous\n",
    "versions and the most recent versions.\n",
    "- It makes it easy to get excellent documentation of your project versions.\n",
    "- Being able to trace each change made and the responsibility for that change.\n",
    "\n",
    "![](../../img/git-benefits.png)"
   ]
  },
  {
   "cell_type": "markdown",
   "metadata": {},
   "source": [
    "## 2. GitHub"
   ]
  },
  {
   "cell_type": "markdown",
   "metadata": {},
   "source": [
    "### 2.1. Definition"
   ]
  },
  {
   "cell_type": "markdown",
   "metadata": {},
   "source": [
    "GitHub is a hosting service. It provides a ”home” for your Git-based projects on the\n",
    "internet.\n",
    "- Showcase your work. Your projects are exposed on the internet and are easily\n",
    "shareable.\n",
    "- You can easily track the development of any project.\n",
    "- Everything is in the hosting service. Everything is going to be alright."
   ]
  },
  {
   "cell_type": "markdown",
   "metadata": {},
   "source": [
    "### 2.2. Key Concepts"
   ]
  },
  {
   "cell_type": "markdown",
   "metadata": {},
   "source": [
    "- **Repository :** Set of files. It exists as a remote repository.\n",
    "\n",
    "- **Clone :** It is a local copy of all the repository on our computer at that point in time.\n",
    "\n",
    "- **Commit :** Snapshot of your repository. Git does not store data as a series of\n",
    "changesets or differences but instead as a series of snapshots.\n",
    "\n",
    "- **Branch :** It is simply a lightweight movable pointer to one of these snapshots or\n",
    "commits. A independent line of development.\n",
    "\n",
    "- **Pull Request :** It is an event when a contributor asks a maintainer of a repository to\n",
    "review code they want to merge into a project."
   ]
  },
  {
   "cell_type": "markdown",
   "metadata": {},
   "source": [
    "### 2.3. Clone"
   ]
  },
  {
   "cell_type": "markdown",
   "metadata": {},
   "source": [
    "It is not the same as downloading. When we clone a repository, we copy the complete\n",
    "history of that repository. Your computer uses Git software to download the version\n",
    "history. Additionally, we can make updates in the cloned repository that can be merged\n",
    "with the remote repository. When we download a repository, we do not copy the project\n",
    "history.\n",
    "\n",
    "**How to clone?**\n",
    "1. Go to the main page\n",
    "2. Click on green button `Code` or `download button`."
   ]
  },
  {
   "cell_type": "markdown",
   "metadata": {},
   "source": [
    "### 2.4. Branch"
   ]
  },
  {
   "cell_type": "markdown",
   "metadata": {},
   "source": [
    "Using Branches is Git’s ”Killer” tool. This feature of Git is what makes it so powerful as a\n",
    "collaboration and version control tool. It allows you to refer to any snapshot of your\n",
    "project.\n",
    "\n",
    "**How to create a branch?**\n",
    "1. Go to our repository in GitHub.\n",
    "2. Write your name in that field and click on `Create branch`: your name. Make sure it\n",
    "says ”from master”.\n",
    "3. Now another branch should appear with your name\n",
    "4. Go to this link to see your branch.\n",
    "\n",
    "![](../../img/branch.png)"
   ]
  },
  {
   "cell_type": "markdown",
   "metadata": {},
   "source": [
    "### 2.5. Pull Request"
   ]
  },
  {
   "cell_type": "markdown",
   "metadata": {},
   "source": [
    "PULL REQUESST = Request that your modifications be transferred to the **master branch**.\n",
    "Usually, there is always a person who is called the **REPO MAINTAINER**, who has access to\n",
    "the **master branch**. Therefore, the only way to contribute to the **master branch** is through\n",
    "a **pull request**.\n",
    "\n",
    "**How to do a Pull Request?**\n",
    "1. Go to the `Pull Request` section of our repository.\n",
    "2. Click on `New Pull Request`\n",
    "3. Select your branch\n",
    "4. Check if the modifications you are requesting for the master branch. **This step is\n",
    "important because in case of any conflict, you will not be able to unite your changes.**\n",
    "If everything is ok, then click on `Create Pull Request`.\n",
    "5. Finally click on Create pull request again."
   ]
  },
  {
   "cell_type": "markdown",
   "metadata": {},
   "source": [
    "### 2.6. Issues"
   ]
  },
  {
   "cell_type": "markdown",
   "metadata": {},
   "source": [
    "We create a space in our repository to work on. This space is named as Issue.\n",
    "- The issues allow us to document every significant change in our repository.\n",
    "- We can assign and classify tasks.\n",
    "- Team members can provide insights on how to solve a specific task.\n",
    "\n",
    "**How to do an Issue?**\n",
    "1. Click on issue tab `New Issue`.\n",
    "2. Add descriptions and assign it properly.\n",
    "3. Add labels to facilitate future searches."
   ]
  },
  {
   "cell_type": "markdown",
   "metadata": {},
   "source": [
    "## 3. Branch-PR-merge Cycle"
   ]
  },
  {
   "cell_type": "markdown",
   "metadata": {},
   "source": [
    "This the best practice framework for implementing each task in a Pull Request.\n",
    "It has three stages. In this course, all the students must complete a full branch-PR-merge\n",
    "cycle for all the tasks. It will be part of the evaluation.\n",
    "- Set up Stage\n",
    "- Work Stage\n",
    "- Merge Stage\n",
    "\n",
    "You could check more information about it at this [link](https://github.com/alexanderquispe/Diplomado_PUCP/blob/main/Lecture_1/GitHub_Introduction.pdf)"
   ]
  },
  {
   "cell_type": "markdown",
   "metadata": {},
   "source": [
    "![](../../img/branch-merge-cycle.png)"
   ]
  }
 ],
 "metadata": {
  "hide_input": false,
  "kernelspec": {
   "display_name": "Python 3 (ipykernel)",
   "language": "python",
   "name": "python3"
  },
  "language_info": {
   "codemirror_mode": {
    "name": "ipython",
    "version": 3
   },
   "file_extension": ".py",
   "mimetype": "text/x-python",
   "name": "python",
   "nbconvert_exporter": "python",
   "pygments_lexer": "ipython3",
   "version": "3.9.12"
  },
  "toc": {
   "base_numbering": 1,
   "nav_menu": {},
   "number_sections": true,
   "sideBar": true,
   "skip_h1_title": false,
   "title_cell": "Table of Contents",
   "title_sidebar": "Contents",
   "toc_cell": false,
   "toc_position": {},
   "toc_section_display": true,
   "toc_window_display": false
  }
 },
 "nbformat": 4,
 "nbformat_minor": 4
}
